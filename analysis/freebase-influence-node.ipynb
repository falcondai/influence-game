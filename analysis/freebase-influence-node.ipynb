{
 "metadata": {
  "name": "",
  "signature": "sha256:391135d213671fab68fa4fa2593e1b3695822a60f3af408eb15343921d3fb42d"
 },
 "nbformat": 3,
 "nbformat_minor": 0,
 "worksheets": [
  {
   "cells": [
    {
     "cell_type": "code",
     "collapsed": false,
     "input": [
      "import json, csv"
     ],
     "language": "python",
     "metadata": {},
     "outputs": [],
     "prompt_number": 9
    },
    {
     "cell_type": "code",
     "collapsed": false,
     "input": [
      "d = []\n",
      "with open('influence_node+music_artist+notable_type.json') as f:\n",
      "    for l in f:\n",
      "        d += json.loads(l)"
     ],
     "language": "python",
     "metadata": {},
     "outputs": [],
     "prompt_number": 6
    },
    {
     "cell_type": "code",
     "collapsed": false,
     "input": [
      "len(d)"
     ],
     "language": "python",
     "metadata": {},
     "outputs": [
      {
       "metadata": {},
       "output_type": "pyout",
       "prompt_number": 7,
       "text": [
        "5129"
       ]
      }
     ],
     "prompt_number": 7
    },
    {
     "cell_type": "code",
     "collapsed": false,
     "input": [
      "d[0]"
     ],
     "language": "python",
     "metadata": {},
     "outputs": [
      {
       "metadata": {},
       "output_type": "pyout",
       "prompt_number": 8,
       "text": [
        "{u'/influence/influence_node/influenced': [{u'id': u'/en/robert_schumann',\n",
        "   u'mid': u'/m/0c73g',\n",
        "   u'type': u'/music/artist'},\n",
        "  {u'id': u'/en/hermann_hesse',\n",
        "   u'mid': u'/m/03jht',\n",
        "   u'type': u'/music/artist'},\n",
        "  {u'id': u'/en/carl_jung', u'mid': u'/m/0bk5r', u'type': u'/music/artist'},\n",
        "  {u'id': u'/en/ugo_foscolo', u'mid': u'/m/0p0r_', u'type': u'/music/artist'},\n",
        "  {u'id': u'/en/thomas_bernhard',\n",
        "   u'mid': u'/m/041flc',\n",
        "   u'type': u'/music/artist'},\n",
        "  {u'id': u'/en/jun_tsuji', u'mid': u'/m/0126cl', u'type': u'/music/artist'},\n",
        "  {u'id': u'/en/heinrich_heine',\n",
        "   u'mid': u'/m/0q6pk',\n",
        "   u'type': u'/music/artist'},\n",
        "  {u'id': u'/en/richard_wagner',\n",
        "   u'mid': u'/m/06c44',\n",
        "   u'type': u'/music/artist'}],\n",
        " u'/influence/influence_node/influenced_by': [{u'id': u'/en/johann_sebastian_bach',\n",
        "   u'mid': u'/m/03_f0',\n",
        "   u'type': u'/music/artist'}],\n",
        " u'/influence/influence_node/peers': [],\n",
        " u'a:type': u'/influence/influence_node',\n",
        " u'id': u'/en/johann_wolfgang_goethe',\n",
        " u'mid': u'/m/042q3',\n",
        " u'name': u'Johann Wolfgang von Goethe',\n",
        " u'type': u'/music/artist'}"
       ]
      }
     ],
     "prompt_number": 8
    },
    {
     "cell_type": "code",
     "collapsed": false,
     "input": [
      "n = {}\n",
      "for x in d:\n",
      "    n[x['mid']] = x"
     ],
     "language": "python",
     "metadata": {},
     "outputs": [],
     "prompt_number": 13
    },
    {
     "cell_type": "code",
     "collapsed": false,
     "input": [
      "e = []\n",
      "for x in d:\n",
      "    for m in x['/influence/influence_node/influenced']:\n",
      "        if m['mid'] in n:\n",
      "            edge = (x['name'], n[m['mid']]['name'])\n",
      "            e.append(edge)\n",
      "    for m in x['/influence/influence_node/influenced_by']:\n",
      "        if m['mid'] in n:\n",
      "            edge = (n[m['mid']]['name'], x['name'])\n",
      "            e.append(edge)\n",
      "    for m in x['/influence/influence_node/peers']:\n",
      "        if m['mid'] in n:\n",
      "            edge = (x['name'], n[m['mid']]['name'])\n",
      "            e.append(edge)\n",
      "            edge = (n[m['mid']]['name'], x['name'])\n",
      "            e.append(edge)\n",
      "e = set(e)"
     ],
     "language": "python",
     "metadata": {},
     "outputs": [],
     "prompt_number": 17
    },
    {
     "cell_type": "code",
     "collapsed": false,
     "input": [
      "len(e)"
     ],
     "language": "python",
     "metadata": {},
     "outputs": [
      {
       "metadata": {},
       "output_type": "pyout",
       "prompt_number": 18,
       "text": [
        "1916"
       ]
      }
     ],
     "prompt_number": 18
    },
    {
     "cell_type": "code",
     "collapsed": false,
     "input": [
      "with open('influence_node.edges', 'wb') as f:\n",
      "    for x, y in e:\n",
      "        x = x.replace(' ', '_').replace('&amp;', '&')\n",
      "        y = y.replace(' ', '_').replace('&amp;', '&')\n",
      "        f.write('\"%s\",\"%s\"\\n' % (x.encode('utf8'), y.encode('utf8')))"
     ],
     "language": "python",
     "metadata": {},
     "outputs": [],
     "prompt_number": 28
    },
    {
     "cell_type": "code",
     "collapsed": false,
     "input": [],
     "language": "python",
     "metadata": {},
     "outputs": []
    }
   ],
   "metadata": {}
  }
 ]
}